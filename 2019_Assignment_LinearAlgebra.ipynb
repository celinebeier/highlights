{
 "cells": [
  {
   "cell_type": "code",
   "execution_count": 1,
   "metadata": {},
   "outputs": [],
   "source": [
    "import numpy as np #import numpy\n",
    "import matplotlib.pyplot as plt #for plotting things"
   ]
  },
  {
   "cell_type": "markdown",
   "metadata": {},
   "source": [
    "1)Using a loop, write code to perform matrix multiplication (in which the answer is composed of elements created by the dot product of the matrices).You should do the multiplication for the two given matrices and check this with numpy's matrix multiplication."
   ]
  },
  {
   "cell_type": "code",
   "execution_count": 2,
   "metadata": {},
   "outputs": [
    {
     "name": "stdout",
     "output_type": "stream",
     "text": [
      "The dot product calculated with my self-written function is \n",
      " [[ 22.  26.]\n",
      " [ 18.  19.]\n",
      " [ 53.  64.]\n",
      " [-21. -25.]] .\n",
      "The dot product calculated with numpy´s matrix multiplication is \n",
      " [[ 22  26]\n",
      " [ 18  19]\n",
      " [ 53  64]\n",
      " [-21 -25]] .\n",
      "They are the same, so my function works!\n"
     ]
    }
   ],
   "source": [
    "def dotprod(mat_1,mat_2): #define a function, input are two matrices\n",
    "    if len(mat_1[0])!=len(mat_2): #check if the number of columns and rows match \n",
    "        return 'The number of columns in the first matrix needs to be the same as the number of rows in the second column for a successfull matrix multiplication!' #if not, give feedback\n",
    "    mat_res=np.zeros((len(mat_1),len(mat_2[0]))) #if yes, create a matrix where data will be stored\n",
    "    for i in range(len(mat_1)): #loop over the number of rows in the first matrix\n",
    "        for j in range(len(mat_2[0])): #loop over columns in the second metrix\n",
    "            mat_res[i,j]=sum(mat_1[i]*mat_2[:,j]) #calculates the elements of the result matrix as the sum over the product of the corresponding row in the first matrix and the correspinding column in the second matrix\n",
    "    return mat_res #returns the result\n",
    "\n",
    "mat_1,mat_2=np.array([[3,2,-1],[4,0,-3],[7,3,1],[-2,-5,3]]),np.array([[6,7],[3,4],[2,3]]) #input the given matrices\n",
    "print('The dot product calculated with my self-written function is \\n',dotprod(mat_1,mat_2),'.') #answer\n",
    "print('The dot product calculated with numpy´s matrix multiplication is \\n',mat_1.dot(mat_2),'.') #answer\n",
    "if dotprod(mat_1,mat_2).all()==mat_1.dot(mat_2).all(): #check if each element is the same\n",
    "    print('They are the same, so my function works!') #answer"
   ]
  },
  {
   "cell_type": "markdown",
   "metadata": {},
   "source": [
    "2)Write a function which accepts the matrix and vector and solves the system of equations as we discussed in class (creating the upper diagonal matrix). The algorithm for doing this is in the class notes. I would like you to start by writing the pseudocode for the function first, then proceeding on to write this in python. A few tips:\n",
    "(a) Be sure to define the matrix in such a way that it is not made up of integers (division then may not give you the result you want).\n",
    "(b) You can use the example done in class to do the testing of your code. \n",
    "Once your function is ready, have it solve the given equations. Check your answer using NumPy's \"solve\" function as we did in class."
   ]
  },
  {
   "cell_type": "markdown",
   "metadata": {},
   "source": [
    "Pseudocode:\n",
    "\n",
    "1.Input the matrix and the vector into the program. Check if it is a square matrix.\n",
    "\n",
    "2.Get a 1 in the (1,1) position of the matrix (upper left corner) by dividing the whole row of the matrix and the first element of the vecor by the number in (1,1). That procedure will be called \"normalization\". \n",
    "\n",
    "3.Go to the element in (2,1). Subtract a multiple of row 1 from the second row in the matrix and the vector so that the element in (2,1) is zero.\n",
    "\n",
    "4.Analog to 3. subtract multiples of row 1 from all the remaining rows so that the first column of the matrix is zero everywhere except for the (1,1) element which is 1.\n",
    "\n",
    "5.Move on to the next diagonal element. Regard all rows above that and smaller columns for future calculations. \n",
    "\n",
    "6.Normalize the row so that the diagonal element is 1, analog to step 2.\n",
    "\n",
    "7.Subtract this row from all rows below, analog to step 3. \n",
    "\n",
    "8.Repeat step 5. until 7. until all the matrix is in triangular form and all diagonal elements are 1.\n",
    "\n",
    "9.Start in the last row, the solution is the last element in the vector.\n",
    "\n",
    "10.Move one row up, multiply the last element in the row with the just calculated solution (=the last element in the vector) and subtract from the vector element in the second last row. \n",
    "\n",
    "11.Move one row up, multiply the last two elements in the row with their corresponding entries in the vector (the already calculated solutions) and subtract from the vector element in the third last row.\n",
    "\n",
    "12.Repeat analog to step 11. for all rows. \n",
    "\n",
    "13.The resulting vector is the solution."
   ]
  },
  {
   "cell_type": "code",
   "execution_count": 3,
   "metadata": {},
   "outputs": [
    {
     "name": "stdout",
     "output_type": "stream",
     "text": [
      "The solution for the system of equations given by the matrix \n",
      " [[ 2.  1.  4.  1.]\n",
      " [ 3.  4. -1. -1.]\n",
      " [ 1. -4.  1.  5.]\n",
      " [ 2. -2.  1.  3.]] and the vector \n",
      " [[-4.]\n",
      " [ 3.]\n",
      " [ 9.]\n",
      " [ 7.]]\n",
      "is \n",
      " [[ 2.]\n",
      " [-1.]\n",
      " [-2.]\n",
      " [ 1.]] .\n"
     ]
    }
   ],
   "source": [
    "def syssolve(mat,vec): #define function\n",
    "    if len(mat)!=len(mat[0]): #checks that the matrix is a square matrix\n",
    "        return 'Error. The matrix has to be a square matrix, the number of rows needs to match the number of columns!' #if not, give feedback\n",
    "    for i in range(len(mat)): #loop through rows\n",
    "        checkzero=i #set variable to check if the element is zero and if it is change it\n",
    "        while checkzero<len(mat) and mat[checkzero,i]==0: #checks if the element is zero and the index is still in range\n",
    "            checkzero+=1 #moves one row done in search of a nonzero element\n",
    "        if checkzero==len(mat): #no rows with a nonzero element was found\n",
    "            return 'The system of equations is either dependent or inconsistent, so there is either no solution or an infinite number of solutions.' #return error text\n",
    "        if checkzero!=i: #row with nonzero element was found\n",
    "            mat[[checkzero,i]]=mat[[i,checkzero]] #switch rows before proceeding\n",
    "            vec[[checkzero,i]]=vec[[i,checkzero]] #switch rows in vector too\n",
    "        vec[i],mat[i]=vec[i]/mat[i,i],mat[i]/mat[i,i] #\"normalises the matrix\" - makes the diagonal element 1\n",
    "        for j in range(i+1,len(mat)): #loops through the rows which still need 0 to make a triangluar matrix\n",
    "            vec[j],mat[j]=vec[j]-mat[j,i]*vec[i],mat[j]-mat[j,i]*mat[i] #subtracts a multiple of the line above the considered line from the matirx and vector so that the element (j,i) gets 0\n",
    "    for i in range(len(mat)-1,-1,-1): #loops over the rows, starting from the last towards the first row\n",
    "        vec[i]-=np.sum(mat[i,i+1:]*vec[i+1:,0]) #calculates each solution element by slicing the matrix and the vector and multiplying the respective elements and then subtracting them from the value in the vector -> result is solution\n",
    "    return vec #returns the vector\n",
    "\n",
    "#check with example from class\n",
    "mat_check=np.array([[2.0,1,4,1],[3,4,-1,-1],[1,-4,1,5],[2,-2,1,3]]) #input matrix\n",
    "vec_check=np.array([[-4.0],[3],[9],[7]]) #input vector\n",
    "print('The solution for the system of equations given by the matrix \\n',mat_check,'and the vector \\n',vec_check) #answer\n",
    "print('is \\n',syssolve(mat_check,vec_check),'.') #answer"
   ]
  },
  {
   "cell_type": "code",
   "execution_count": 4,
   "metadata": {},
   "outputs": [
    {
     "name": "stdout",
     "output_type": "stream",
     "text": [
      "The solution calculated with the numpy function is \n",
      " [[  2.]\n",
      " [-12.]\n",
      " [ -4.]\n",
      " [  1.]] .\n",
      "The solution calculated with my own code is \n",
      " [[  2.]\n",
      " [-12.]\n",
      " [ -4.]\n",
      " [  1.]] .\n",
      "They are the same, so my function works!\n"
     ]
    }
   ],
   "source": [
    "#calcultaion with given matrix and vector\n",
    "mat=np.array([[2.0,-1,5,1],[3,2,2,-6],[1,3,3,-1],[5,-2,-3,3]]) #input matrix\n",
    "vec=np.array([[-3.0],[-32],[-47],[49]]) #input vector\n",
    "print('The solution calculated with the numpy function is \\n',np.linalg.solve(mat,vec),'.') #answer\n",
    "print('The solution calculated with my own code is \\n',syssolve(mat,vec),'.') #answer\n",
    "if np.linalg.solve(mat,vec).all()==syssolve(mat,vec).all(): #check if each element is the same\n",
    "    print('They are the same, so my function works!') #answer"
   ]
  },
  {
   "cell_type": "markdown",
   "metadata": {},
   "source": [
    "3)The first key to finding eigenvalues of a system is to find the determinant of an equation. Write a function which accepts a matrix, checks to make sure it's square, and if it is, calculates the determinant. For now assume the input has to be of size 3x3 in order to make setting up the multiplication easier. Your method should have the potential to be extendable to higher dimensions, by which I mean that your final sum should loop over the dimension of the matrix and not just be an  addition  of  all of the elements individually. You should find the determinant of the given matrix and check with the numpy function."
   ]
  },
  {
   "cell_type": "code",
   "execution_count": 5,
   "metadata": {},
   "outputs": [
    {
     "name": "stdout",
     "output_type": "stream",
     "text": [
      "The determinant determined with my self-written code is 14.0 .\n",
      "The determinant determined with the numpy function is 14.0 .\n",
      "They are the same, so my function works!\n"
     ]
    }
   ],
   "source": [
    "def det(mat): #define function, input is a matirx\n",
    "    if len(mat)!=len(mat[0]): #checks that the matrix is a square matrix\n",
    "        return 'Error. The matrix has to be a square matrix, the number of rows needs to match the number of columns!' #if not, give feedback\n",
    "    det=1 #set determinant starting value, 1 instead of 0 because multiplication is used \n",
    "    for i in range(len(mat)): #loop through rows\n",
    "        checkzero=i #set variable to check if the element is zero and if it is change it\n",
    "        while checkzero<len(mat) and mat[checkzero,i]==0: #checks if the element is zero and the index is still in range\n",
    "            checkzero+=1 #moves one row done in search of a nonzero element\n",
    "        if checkzero==len(mat): #no rows with a nonzero element was found\n",
    "            return 0 #determinant is zero\n",
    "        if checkzero!=i: #row with nonzero element was found\n",
    "            mat[[checkzero,i]]=mat[[i,checkzero]] #switch rows before proceeding\n",
    "            mat[i]*=-1 #switching rows changes the sign of the determinant, needs to be corrected\n",
    "        for j in range(i+1,len(mat)): #loops through the rows which still need 0 to make a triangluar matrix\n",
    "            mat[j]=mat[j]-mat[j,i]/mat[i,i]*mat[i] #calculates the ratio of the first nonzero element of the row with the element below it and uses that ratio so do a addition so that the element n the lower row gets 0\n",
    "        det*=mat[i,i] #multiplies the newly won diagonal element to the matrix\n",
    "    return det #returns the determinant\n",
    "\n",
    "mat=np.array([[2.0,-1,5],[3,2,2],[1,3,-1]]) #input matrix\n",
    "print('The determinant determined with my self-written code is',det(mat),'.') #answer\n",
    "print('The determinant determined with the numpy function is',round(np.linalg.det(mat),6),'.') #answer\n",
    "if det(mat)==round(np.linalg.det(mat),3): #check if each element is the same\n",
    "    print('They are the same, so my function works!') #answer"
   ]
  }
 ],
 "metadata": {
  "kernelspec": {
   "display_name": "Python 3",
   "language": "python",
   "name": "python3"
  },
  "language_info": {
   "codemirror_mode": {
    "name": "ipython",
    "version": 3
   },
   "file_extension": ".py",
   "mimetype": "text/x-python",
   "name": "python",
   "nbconvert_exporter": "python",
   "pygments_lexer": "ipython3",
   "version": "3.7.0"
  }
 },
 "nbformat": 4,
 "nbformat_minor": 2
}
